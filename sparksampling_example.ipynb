{
 "cells": [
  {
   "cell_type": "code",
   "execution_count": 6,
   "metadata": {},
   "outputs": [],
   "source": [
    "from sparksampling import Submitter\n",
    "from sparksampling.utilities.var import FILE_TYPE_CSV\n",
    "from sparksampling.utilities.var import SIMPLE_RANDOM_SAMPLING_METHOD\n",
    "submitter = Submitter()"
   ]
  },
  {
   "cell_type": "code",
   "execution_count": 8,
   "metadata": {
    "scrolled": true
   },
   "outputs": [
    {
     "name": "stdout",
     "output_type": "stream",
     "text": [
      "request: http://localhost:8000/v1/sampling/simplejob/\n",
      "2021-03-18 18:19:02,040 DEBUG connectionpool.py[231] Starting new HTTP connection (1): localhost:8000\n",
      "2021-03-18 18:19:02,062 DEBUG connectionpool.py[461] http://localhost:8000 \"POST /v1/sampling/simplejob/ HTTP/1.1\" 200 49\n"
     ]
    },
    {
     "data": {
      "text/plain": [
       "<sparksampling.submit.DSResponse at 0x7f039202af90>"
      ]
     },
     "execution_count": 8,
     "metadata": {},
     "output_type": "execute_result"
    }
   ],
   "source": [
    "submit_response = submitter.submit_sampling_simplejob('hdfs://localhost:9000/dataset/titanic/train.csv',\n",
    "                                              method=SIMPLE_RANDOM_SAMPLING_METHOD,\n",
    "                                              file_type=FILE_TYPE_CSV,\n",
    "                                              fraction=0.9,\n",
    "                                              with_header=True)\n",
    "job_id = submit_response.data['job_id']\n",
    "submit_response"
   ]
  },
  {
   "cell_type": "code",
   "execution_count": 9,
   "metadata": {},
   "outputs": [
    {
     "data": {
      "text/plain": [
       "{'code': 0, 'msg': '', 'data': {'job_id': 10042}}"
      ]
     },
     "execution_count": 9,
     "metadata": {},
     "output_type": "execute_result"
    }
   ],
   "source": [
    "submit_response.to_dict()"
   ]
  },
  {
   "cell_type": "code",
   "execution_count": 10,
   "metadata": {},
   "outputs": [
    {
     "name": "stdout",
     "output_type": "stream",
     "text": [
      "request: http://localhost:8000/v1/sampling/query/job/\n",
      "2021-03-18 18:19:09,048 DEBUG connectionpool.py[231] Starting new HTTP connection (1): localhost:8000\n",
      "2021-03-18 18:19:09,052 DEBUG connectionpool.py[461] http://localhost:8000 \"POST /v1/sampling/query/job/ HTTP/1.1\" 200 462\n"
     ]
    },
    {
     "data": {
      "text/plain": [
       "{'code': 0,\n",
       " 'msg': '',\n",
       " 'data': {'job_id': 10042,\n",
       "  'job_status': 'Succeed',\n",
       "  'msg': 'succeed',\n",
       "  'method': 'Simple Random Sampling',\n",
       "  'start_time': '2021/03/18/ 18:19:02',\n",
       "  'end_time': '2021/03/18 18:19:03',\n",
       "  'simpled_file_path': 'hdfs://localhost:9000/dataset/titanic/train.csv-sampled-1616062742.0438735',\n",
       "  'request_data': \"{'path': 'hdfs://localhost:9000/dataset/titanic/train.csv', 'method': 'random', 'type': 'csv', 'with_header': True, 'conf': {'fraction': 0.9}}\"}}"
      ]
     },
     "execution_count": 10,
     "metadata": {},
     "output_type": "execute_result"
    }
   ],
   "source": [
    "submitter.get_sampling_job_details(job_id).to_dict()"
   ]
  },
  {
   "cell_type": "code",
   "execution_count": 11,
   "metadata": {
    "scrolled": true
   },
   "outputs": [
    {
     "name": "stdout",
     "output_type": "stream",
     "text": [
      "request: http://localhost:8000/v1/evaluation/statistics/\n",
      "2021-03-18 18:19:12,605 DEBUG connectionpool.py[231] Starting new HTTP connection (1): localhost:8000\n",
      "2021-03-18 18:19:13,024 DEBUG connectionpool.py[461] http://localhost:8000 \"POST /v1/evaluation/statistics/ HTTP/1.1\" 200 1369\n"
     ]
    },
    {
     "data": {
      "text/html": [
       "<div>\n",
       "<style scoped>\n",
       "    .dataframe tbody tr th:only-of-type {\n",
       "        vertical-align: middle;\n",
       "    }\n",
       "\n",
       "    .dataframe tbody tr th {\n",
       "        vertical-align: top;\n",
       "    }\n",
       "\n",
       "    .dataframe thead th {\n",
       "        text-align: right;\n",
       "    }\n",
       "</style>\n",
       "<table border=\"1\" class=\"dataframe\">\n",
       "  <thead>\n",
       "    <tr style=\"text-align: right;\">\n",
       "      <th></th>\n",
       "      <th>PassengerId</th>\n",
       "      <th>Survived</th>\n",
       "      <th>Pclass</th>\n",
       "      <th>Name</th>\n",
       "      <th>Sex</th>\n",
       "      <th>Age</th>\n",
       "      <th>SibSp</th>\n",
       "      <th>Parch</th>\n",
       "      <th>Ticket</th>\n",
       "      <th>Fare</th>\n",
       "      <th>Cabin</th>\n",
       "      <th>Embarked</th>\n",
       "    </tr>\n",
       "    <tr>\n",
       "      <th>summary</th>\n",
       "      <th></th>\n",
       "      <th></th>\n",
       "      <th></th>\n",
       "      <th></th>\n",
       "      <th></th>\n",
       "      <th></th>\n",
       "      <th></th>\n",
       "      <th></th>\n",
       "      <th></th>\n",
       "      <th></th>\n",
       "      <th></th>\n",
       "      <th></th>\n",
       "    </tr>\n",
       "  </thead>\n",
       "  <tbody>\n",
       "    <tr>\n",
       "      <th>count</th>\n",
       "      <td>800</td>\n",
       "      <td>800</td>\n",
       "      <td>800</td>\n",
       "      <td>800</td>\n",
       "      <td>800</td>\n",
       "      <td>644</td>\n",
       "      <td>800</td>\n",
       "      <td>800</td>\n",
       "      <td>800</td>\n",
       "      <td>800</td>\n",
       "      <td>182</td>\n",
       "      <td>798</td>\n",
       "    </tr>\n",
       "    <tr>\n",
       "      <th>mean</th>\n",
       "      <td>447.36625</td>\n",
       "      <td>0.38375</td>\n",
       "      <td>2.31625</td>\n",
       "      <td>None</td>\n",
       "      <td>None</td>\n",
       "      <td>29.899984472049685</td>\n",
       "      <td>0.5</td>\n",
       "      <td>0.3475</td>\n",
       "      <td>238760.35456110156</td>\n",
       "      <td>31.96637437499997</td>\n",
       "      <td>None</td>\n",
       "      <td>None</td>\n",
       "    </tr>\n",
       "    <tr>\n",
       "      <th>stddev</th>\n",
       "      <td>255.85095123430136</td>\n",
       "      <td>0.4866024197367053</td>\n",
       "      <td>0.8349295309498075</td>\n",
       "      <td>None</td>\n",
       "      <td>None</td>\n",
       "      <td>13.617861812410364</td>\n",
       "      <td>1.069546591968059</td>\n",
       "      <td>0.804706897876091</td>\n",
       "      <td>407001.6427253449</td>\n",
       "      <td>51.17323514604554</td>\n",
       "      <td>None</td>\n",
       "      <td>None</td>\n",
       "    </tr>\n",
       "    <tr>\n",
       "      <th>min</th>\n",
       "      <td>10</td>\n",
       "      <td>0</td>\n",
       "      <td>1</td>\n",
       "      <td>\"Andersson, Mr. August Edvard (\"\"Wennerstrom\"\")\"</td>\n",
       "      <td>female</td>\n",
       "      <td>0.42</td>\n",
       "      <td>0</td>\n",
       "      <td>0</td>\n",
       "      <td>110152</td>\n",
       "      <td>0</td>\n",
       "      <td>A10</td>\n",
       "      <td>C</td>\n",
       "    </tr>\n",
       "    <tr>\n",
       "      <th>max</th>\n",
       "      <td>99</td>\n",
       "      <td>1</td>\n",
       "      <td>3</td>\n",
       "      <td>van Melkebeke, Mr. Philemon</td>\n",
       "      <td>male</td>\n",
       "      <td>9</td>\n",
       "      <td>8</td>\n",
       "      <td>6</td>\n",
       "      <td>WE/P 5735</td>\n",
       "      <td>93.5</td>\n",
       "      <td>T</td>\n",
       "      <td>S</td>\n",
       "    </tr>\n",
       "  </tbody>\n",
       "</table>\n",
       "</div>"
      ],
      "text/plain": [
       "                PassengerId            Survived              Pclass  \\\n",
       "summary                                                               \n",
       "count                   800                 800                 800   \n",
       "mean              447.36625             0.38375             2.31625   \n",
       "stddev   255.85095123430136  0.4866024197367053  0.8349295309498075   \n",
       "min                      10                   0                   1   \n",
       "max                      99                   1                   3   \n",
       "\n",
       "                                                     Name     Sex  \\\n",
       "summary                                                             \n",
       "count                                                 800     800   \n",
       "mean                                                 None    None   \n",
       "stddev                                               None    None   \n",
       "min      \"Andersson, Mr. August Edvard (\"\"Wennerstrom\"\")\"  female   \n",
       "max                           van Melkebeke, Mr. Philemon    male   \n",
       "\n",
       "                        Age              SibSp              Parch  \\\n",
       "summary                                                             \n",
       "count                   644                800                800   \n",
       "mean     29.899984472049685                0.5             0.3475   \n",
       "stddev   13.617861812410364  1.069546591968059  0.804706897876091   \n",
       "min                    0.42                  0                  0   \n",
       "max                       9                  8                  6   \n",
       "\n",
       "                     Ticket               Fare Cabin Embarked  \n",
       "summary                                                        \n",
       "count                   800                800   182      798  \n",
       "mean     238760.35456110156  31.96637437499997  None     None  \n",
       "stddev    407001.6427253449  51.17323514604554  None     None  \n",
       "min                  110152                  0   A10        C  \n",
       "max               WE/P 5735               93.5     T        S  "
      ]
     },
     "execution_count": 11,
     "metadata": {},
     "output_type": "execute_result"
    }
   ],
   "source": [
    "data = submitter.get_statistics(job_id=job_id, from_sampling=True, file_type=FILE_TYPE_CSV,with_header=True).to_pandas()\n",
    "data"
   ]
  },
  {
   "cell_type": "code",
   "execution_count": 12,
   "metadata": {},
   "outputs": [
    {
     "name": "stdout",
     "output_type": "stream",
     "text": [
      "request: http://localhost:8000/v1/evaluation/job/\n",
      "2021-03-18 18:19:20,567 DEBUG connectionpool.py[231] Starting new HTTP connection (1): localhost:8000\n",
      "2021-03-18 18:19:20,588 DEBUG connectionpool.py[461] http://localhost:8000 \"POST /v1/evaluation/job/ HTTP/1.1\" 200 49\n"
     ]
    }
   ],
   "source": [
    "evaluation_job = submitter.submit_evaluation_job(compare_job_id=job_id,file_type=FILE_TYPE_CSV)"
   ]
  },
  {
   "cell_type": "code",
   "execution_count": 13,
   "metadata": {},
   "outputs": [
    {
     "data": {
      "text/plain": [
       "{'code': 0, 'msg': '', 'data': {'job_id': 50013}}"
      ]
     },
     "execution_count": 13,
     "metadata": {},
     "output_type": "execute_result"
    }
   ],
   "source": [
    "evaluation_job_id = evaluation_job.data['job_id']\n",
    "evaluation_job.to_dict()"
   ]
  },
  {
   "cell_type": "code",
   "execution_count": 18,
   "metadata": {},
   "outputs": [
    {
     "name": "stdout",
     "output_type": "stream",
     "text": [
      "request: http://localhost:8000/v1/evaluation/query/job/\n",
      "2021-03-18 18:21:09,414 DEBUG connectionpool.py[231] Starting new HTTP connection (1): localhost:8000\n",
      "2021-03-18 18:21:09,418 DEBUG connectionpool.py[461] http://localhost:8000 \"POST /v1/evaluation/query/job/ HTTP/1.1\" 200 2565\n"
     ]
    },
    {
     "data": {
      "text/plain": [
       "{'code': 0,\n",
       " 'msg': '',\n",
       " 'data': {'job_id': 50013,\n",
       "  'job_status': 'Succeed',\n",
       "  'msg': 'succeed',\n",
       "  'method': 'Compare Evaluation',\n",
       "  'start_time': '2021/03/18/ 18:19:21',\n",
       "  'end_time': '2021/03/18 18:19:21',\n",
       "  'result': '{\\'PassengerId\\': {\\'count\\': \\'800\\', \\'mean\\': \\'447.36625\\', \\'stddev\\': \\'255.85095123430136\\', \\'min\\': \\'10\\', \\'max\\': \\'99\\', \\'mean_bias\\': 0.003063340807174842, \\'stddev_bias\\': 0.005839783735732211, \\'score\\': 0.9955484377285465}, \\'Survived\\': {\\'count\\': \\'800\\', \\'mean\\': \\'0.38375\\', \\'stddev\\': \\'0.4866024197367053\\', \\'min\\': \\'0\\', \\'max\\': \\'1\\', \\'mean_bias\\': 0.00023026315789472028, \\'stddev_bias\\': 2.0480119986323137e-05, \\'score\\': 0.9998746283610594}, \\'Pclass\\': {\\'count\\': \\'800\\', \\'mean\\': \\'2.31625\\', \\'stddev\\': \\'0.8349295309498075\\', \\'min\\': \\'1\\', \\'max\\': \\'3\\', \\'mean_bias\\': 0.0032954545454545905, \\'stddev_bias\\': 0.0013655654820842675, \\'score\\': 0.9976694899862305}, \\'Name\\': {\\'count\\': \\'800\\', \\'mean\\': None, \\'stddev\\': None, \\'min\\': \\'\"Andersson, Mr. August Edvard (\"\"Wennerstrom\"\")\"\\', \\'max\\': \\'van Melkebeke, Mr. Philemon\\', \\'mean_bias\\': 0, \\'stddev_bias\\': 0, \\'score\\': 0}, \\'Sex\\': {\\'count\\': \\'800\\', \\'mean\\': None, \\'stddev\\': None, \\'min\\': \\'female\\', \\'max\\': \\'male\\', \\'mean_bias\\': 0, \\'stddev_bias\\': 0, \\'score\\': 0}, \\'Age\\': {\\'count\\': \\'644\\', \\'mean\\': \\'29.899984472049685\\', \\'stddev\\': \\'13.617861812410364\\', \\'min\\': \\'0.42\\', \\'max\\': \\'9\\', \\'mean_bias\\': 0.006763393693305796, \\'stddev_bias\\': 0.0625502142144872, \\'score\\': 0.9653431960461035}, \\'SibSp\\': {\\'count\\': \\'800\\', \\'mean\\': \\'0.5\\', \\'stddev\\': \\'1.069546591968059\\', \\'min\\': \\'0\\', \\'max\\': \\'8\\', \\'mean_bias\\': 0.043991416309012786, \\'stddev_bias\\': 0.030103865825191513, \\'score\\': 0.9629523589328979}, \\'Parch\\': {\\'count\\': \\'800\\', \\'mean\\': \\'0.3475\\', \\'stddev\\': \\'0.804706897876091\\', \\'min\\': \\'0\\', \\'max\\': \\'6\\', \\'mean_bias\\': 0.08934558823529415, \\'stddev_bias\\': 0.001675220094132961, \\'score\\': 0.9544895958352865}, \\'Ticket\\': {\\'count\\': \\'800\\', \\'mean\\': \\'238760.35456110156\\', \\'stddev\\': \\'407001.6427253449\\', \\'min\\': \\'110152\\', \\'max\\': \\'WE/P 5735\\', \\'mean_bias\\': 0.0828146694722049, \\'stddev_bias\\': 0.13699396990795581, \\'score\\': 0.8900956803099196}, \\'Fare\\': {\\'count\\': \\'800\\', \\'mean\\': \\'31.96637437499997\\', \\'stddev\\': \\'51.17323514604554\\', \\'min\\': \\'0\\', \\'max\\': \\'93.5\\', \\'mean_bias\\': 0.007385171335581778, \\'stddev_bias\\': 0.0297787170384255, \\'score\\': 0.9814180558129963}, \\'Cabin\\': {\\'count\\': \\'182\\', \\'mean\\': None, \\'stddev\\': None, \\'min\\': \\'A10\\', \\'max\\': \\'T\\', \\'mean_bias\\': 0, \\'stddev_bias\\': 0, \\'score\\': 0}, \\'Embarked\\': {\\'count\\': \\'798\\', \\'mean\\': None, \\'stddev\\': None, \\'min\\': \\'C\\', \\'max\\': \\'S\\', \\'mean_bias\\': 0, \\'stddev_bias\\': 0, \\'score\\': 0}}',\n",
       "  'request_data': \"{'method': 'compare', 'type': 'csv', 'compare_job_id': 10042}\"}}"
      ]
     },
     "execution_count": 18,
     "metadata": {},
     "output_type": "execute_result"
    }
   ],
   "source": [
    "evaluation_job_data = submitter.get_evaluation_job_details(job_id=evaluation_job_id)\n",
    "evaluation_job_data.to_dict()"
   ]
  },
  {
   "cell_type": "code",
   "execution_count": 19,
   "metadata": {},
   "outputs": [
    {
     "data": {
      "text/html": [
       "<div>\n",
       "<style scoped>\n",
       "    .dataframe tbody tr th:only-of-type {\n",
       "        vertical-align: middle;\n",
       "    }\n",
       "\n",
       "    .dataframe tbody tr th {\n",
       "        vertical-align: top;\n",
       "    }\n",
       "\n",
       "    .dataframe thead th {\n",
       "        text-align: right;\n",
       "    }\n",
       "</style>\n",
       "<table border=\"1\" class=\"dataframe\">\n",
       "  <thead>\n",
       "    <tr style=\"text-align: right;\">\n",
       "      <th></th>\n",
       "      <th>Age</th>\n",
       "      <th>Cabin</th>\n",
       "      <th>Embarked</th>\n",
       "      <th>Fare</th>\n",
       "      <th>Name</th>\n",
       "      <th>Parch</th>\n",
       "      <th>PassengerId</th>\n",
       "      <th>Pclass</th>\n",
       "      <th>Sex</th>\n",
       "      <th>SibSp</th>\n",
       "      <th>Survived</th>\n",
       "      <th>Ticket</th>\n",
       "    </tr>\n",
       "  </thead>\n",
       "  <tbody>\n",
       "    <tr>\n",
       "      <th>count</th>\n",
       "      <td>644</td>\n",
       "      <td>182</td>\n",
       "      <td>798</td>\n",
       "      <td>800</td>\n",
       "      <td>800</td>\n",
       "      <td>800</td>\n",
       "      <td>800</td>\n",
       "      <td>800</td>\n",
       "      <td>800</td>\n",
       "      <td>800</td>\n",
       "      <td>800</td>\n",
       "      <td>800</td>\n",
       "    </tr>\n",
       "    <tr>\n",
       "      <th>mean</th>\n",
       "      <td>29.899984472049685</td>\n",
       "      <td>None</td>\n",
       "      <td>None</td>\n",
       "      <td>31.96637437499997</td>\n",
       "      <td>None</td>\n",
       "      <td>0.3475</td>\n",
       "      <td>447.36625</td>\n",
       "      <td>2.31625</td>\n",
       "      <td>None</td>\n",
       "      <td>0.5</td>\n",
       "      <td>0.38375</td>\n",
       "      <td>238760.35456110156</td>\n",
       "    </tr>\n",
       "    <tr>\n",
       "      <th>stddev</th>\n",
       "      <td>13.617861812410364</td>\n",
       "      <td>None</td>\n",
       "      <td>None</td>\n",
       "      <td>51.17323514604554</td>\n",
       "      <td>None</td>\n",
       "      <td>0.804706897876091</td>\n",
       "      <td>255.85095123430136</td>\n",
       "      <td>0.8349295309498075</td>\n",
       "      <td>None</td>\n",
       "      <td>1.069546591968059</td>\n",
       "      <td>0.4866024197367053</td>\n",
       "      <td>407001.6427253449</td>\n",
       "    </tr>\n",
       "    <tr>\n",
       "      <th>min</th>\n",
       "      <td>0.42</td>\n",
       "      <td>A10</td>\n",
       "      <td>C</td>\n",
       "      <td>0</td>\n",
       "      <td>\"Andersson, Mr. August Edvard (\"\"Wennerstrom\"\")\"</td>\n",
       "      <td>0</td>\n",
       "      <td>10</td>\n",
       "      <td>1</td>\n",
       "      <td>female</td>\n",
       "      <td>0</td>\n",
       "      <td>0</td>\n",
       "      <td>110152</td>\n",
       "    </tr>\n",
       "    <tr>\n",
       "      <th>max</th>\n",
       "      <td>9</td>\n",
       "      <td>T</td>\n",
       "      <td>S</td>\n",
       "      <td>93.5</td>\n",
       "      <td>van Melkebeke, Mr. Philemon</td>\n",
       "      <td>6</td>\n",
       "      <td>99</td>\n",
       "      <td>3</td>\n",
       "      <td>male</td>\n",
       "      <td>8</td>\n",
       "      <td>1</td>\n",
       "      <td>WE/P 5735</td>\n",
       "    </tr>\n",
       "    <tr>\n",
       "      <th>mean_bias</th>\n",
       "      <td>0.00676339</td>\n",
       "      <td>0</td>\n",
       "      <td>0</td>\n",
       "      <td>0.00738517</td>\n",
       "      <td>0</td>\n",
       "      <td>0.0893456</td>\n",
       "      <td>0.00306334</td>\n",
       "      <td>0.00329545</td>\n",
       "      <td>0</td>\n",
       "      <td>0.0439914</td>\n",
       "      <td>0.000230263</td>\n",
       "      <td>0.0828147</td>\n",
       "    </tr>\n",
       "    <tr>\n",
       "      <th>stddev_bias</th>\n",
       "      <td>0.0625502</td>\n",
       "      <td>0</td>\n",
       "      <td>0</td>\n",
       "      <td>0.0297787</td>\n",
       "      <td>0</td>\n",
       "      <td>0.00167522</td>\n",
       "      <td>0.00583978</td>\n",
       "      <td>0.00136557</td>\n",
       "      <td>0</td>\n",
       "      <td>0.0301039</td>\n",
       "      <td>2.04801e-05</td>\n",
       "      <td>0.136994</td>\n",
       "    </tr>\n",
       "    <tr>\n",
       "      <th>score</th>\n",
       "      <td>0.965343</td>\n",
       "      <td>0</td>\n",
       "      <td>0</td>\n",
       "      <td>0.981418</td>\n",
       "      <td>0</td>\n",
       "      <td>0.95449</td>\n",
       "      <td>0.995548</td>\n",
       "      <td>0.997669</td>\n",
       "      <td>0</td>\n",
       "      <td>0.962952</td>\n",
       "      <td>0.999875</td>\n",
       "      <td>0.890096</td>\n",
       "    </tr>\n",
       "  </tbody>\n",
       "</table>\n",
       "</div>"
      ],
      "text/plain": [
       "                            Age Cabin Embarked               Fare  \\\n",
       "count                       644   182      798                800   \n",
       "mean         29.899984472049685  None     None  31.96637437499997   \n",
       "stddev       13.617861812410364  None     None  51.17323514604554   \n",
       "min                        0.42   A10        C                  0   \n",
       "max                           9     T        S               93.5   \n",
       "mean_bias            0.00676339     0        0         0.00738517   \n",
       "stddev_bias           0.0625502     0        0          0.0297787   \n",
       "score                  0.965343     0        0           0.981418   \n",
       "\n",
       "                                                         Name  \\\n",
       "count                                                     800   \n",
       "mean                                                     None   \n",
       "stddev                                                   None   \n",
       "min          \"Andersson, Mr. August Edvard (\"\"Wennerstrom\"\")\"   \n",
       "max                               van Melkebeke, Mr. Philemon   \n",
       "mean_bias                                                   0   \n",
       "stddev_bias                                                 0   \n",
       "score                                                       0   \n",
       "\n",
       "                         Parch         PassengerId              Pclass  \\\n",
       "count                      800                 800                 800   \n",
       "mean                    0.3475           447.36625             2.31625   \n",
       "stddev       0.804706897876091  255.85095123430136  0.8349295309498075   \n",
       "min                          0                  10                   1   \n",
       "max                          6                  99                   3   \n",
       "mean_bias            0.0893456          0.00306334          0.00329545   \n",
       "stddev_bias         0.00167522          0.00583978          0.00136557   \n",
       "score                  0.95449            0.995548            0.997669   \n",
       "\n",
       "                Sex              SibSp            Survived              Ticket  \n",
       "count           800                800                 800                 800  \n",
       "mean           None                0.5             0.38375  238760.35456110156  \n",
       "stddev         None  1.069546591968059  0.4866024197367053   407001.6427253449  \n",
       "min          female                  0                   0              110152  \n",
       "max            male                  8                   1           WE/P 5735  \n",
       "mean_bias         0          0.0439914         0.000230263           0.0828147  \n",
       "stddev_bias       0          0.0301039         2.04801e-05            0.136994  \n",
       "score             0           0.962952            0.999875            0.890096  "
      ]
     },
     "execution_count": 19,
     "metadata": {},
     "output_type": "execute_result"
    }
   ],
   "source": [
    "evaluation_job_data.to_pandas()"
   ]
  }
 ],
 "metadata": {
  "kernelspec": {
   "display_name": "Python 3",
   "language": "python",
   "name": "python3"
  },
  "language_info": {
   "codemirror_mode": {
    "name": "ipython",
    "version": 3
   },
   "file_extension": ".py",
   "mimetype": "text/x-python",
   "name": "python",
   "nbconvert_exporter": "python",
   "pygments_lexer": "ipython3",
   "version": "3.7.9"
  }
 },
 "nbformat": 4,
 "nbformat_minor": 2
}
