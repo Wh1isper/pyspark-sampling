{
 "cells": [
  {
   "cell_type": "code",
   "execution_count": 1,
   "metadata": {},
   "outputs": [],
   "source": [
    "from sparksampling import Submitter\n",
    "submitter = Submitter()"
   ]
  },
  {
   "cell_type": "code",
   "execution_count": 2,
   "metadata": {
    "scrolled": true
   },
   "outputs": [
    {
     "name": "stdout",
     "output_type": "stream",
     "text": [
      "request: http://localhost:8000/v1/sampling/simplejob/\n",
      "2021-01-26 10:31:11,366 DEBUG connectionpool.py[231] Starting new HTTP connection (1): localhost:8000\n",
      "2021-01-26 10:31:11,419 DEBUG connectionpool.py[461] http://localhost:8000 \"POST /v1/sampling/simplejob/ HTTP/1.1\" 200 49\n"
     ]
    },
    {
     "data": {
      "text/plain": [
       "<sparksampling.submit.DSResponse at 0x7f5366dc7810>"
      ]
     },
     "execution_count": 2,
     "metadata": {},
     "output_type": "execute_result"
    }
   ],
   "source": [
    "from sparksampling.utilities.var import FILE_TYPE_CSV\n",
    "from sparksampling.utilities.var import SIMPLE_RANDOM_SAMPLING_METHOD\n",
    "\n",
    "submit_response = submitter.submit_sampling_simplejob('hdfs://localhost:9000/dataset/titanic/train.csv',\n",
    "                                              method=SIMPLE_RANDOM_SAMPLING_METHOD,\n",
    "                                              file_type=FILE_TYPE_CSV,\n",
    "                                              with_header=True)\n",
    "job_id = submit_response.data['job_id']\n",
    "submit_response"
   ]
  },
  {
   "cell_type": "code",
   "execution_count": 3,
   "metadata": {},
   "outputs": [
    {
     "data": {
      "text/plain": [
       "{'code': 0, 'msg': '', 'data': {'job_id': 10000}}"
      ]
     },
     "execution_count": 3,
     "metadata": {},
     "output_type": "execute_result"
    }
   ],
   "source": [
    "submit_response.to_dict()"
   ]
  },
  {
   "cell_type": "code",
   "execution_count": 14,
   "metadata": {},
   "outputs": [
    {
     "name": "stdout",
     "output_type": "stream",
     "text": [
      "request: http://localhost:8000/v1/sampling/query/job/\n"
     ]
    },
    {
     "data": {
      "text/plain": [
       "{'code': 0,\n",
       " 'msg': '',\n",
       " 'data': {'job_id': 10007,\n",
       "  'job_status': 'Succeed',\n",
       "  'msg': 'succeed',\n",
       "  'method': 'Simple Random Sampling',\n",
       "  'start_time': '2021/01/22/ 10:13:49',\n",
       "  'end_time': '2021/01/22 10:13:50',\n",
       "  'simpled_file_path': 'hdfs://localhost:9000/dataset/titanic/train.csv-sampled-1611281629.4054315',\n",
       "  'request_data': \"{'path': 'hdfs://localhost:9000/dataset/titanic/train.csv', 'method': 1, 'type': 2, 'with_header': True, 'conf': {}}\"}}"
      ]
     },
     "execution_count": 14,
     "metadata": {},
     "output_type": "execute_result"
    }
   ],
   "source": [
    "submitter.get_sampling_job_details(job_id)"
   ]
  },
  {
   "cell_type": "code",
   "execution_count": 15,
   "metadata": {
    "scrolled": true
   },
   "outputs": [
    {
     "name": "stdout",
     "output_type": "stream",
     "text": [
      "request: http://localhost:8000/v1/evaluation/statistics/\n"
     ]
    },
    {
     "data": {
      "text/plain": [
       "[{'summary': 'count',\n",
       "  'PassengerId': '478',\n",
       "  'Survived': '478',\n",
       "  'Pclass': '478',\n",
       "  'Name': '478',\n",
       "  'Sex': '478',\n",
       "  'Age': '391',\n",
       "  'SibSp': '478',\n",
       "  'Parch': '478',\n",
       "  'Ticket': '478',\n",
       "  'Fare': '478',\n",
       "  'Cabin': '110',\n",
       "  'Embarked': '478'},\n",
       " {'summary': 'mean',\n",
       "  'PassengerId': '439.9979079497908',\n",
       "  'Survived': '0.4100418410041841',\n",
       "  'Pclass': '2.288702928870293',\n",
       "  'Name': None,\n",
       "  'Sex': None,\n",
       "  'Age': '30.155601023017905',\n",
       "  'SibSp': '0.5334728033472803',\n",
       "  'Parch': '0.4246861924686193',\n",
       "  'Ticket': '301151.71142857143',\n",
       "  'Fare': '34.130464644351434',\n",
       "  'Cabin': None,\n",
       "  'Embarked': None},\n",
       " {'summary': 'stddev',\n",
       "  'PassengerId': '260.25032699310214',\n",
       "  'Survived': '0.49235624632787073',\n",
       "  'Pclass': '0.8444652654311523',\n",
       "  'Name': None,\n",
       "  'Sex': None,\n",
       "  'Age': '14.128870337349701',\n",
       "  'SibSp': '1.1482960077789233',\n",
       "  'Parch': '0.9189236969722622',\n",
       "  'Ticket': '547604.6362277074',\n",
       "  'Fare': '56.180566079429475',\n",
       "  'Cabin': None,\n",
       "  'Embarked': None},\n",
       " {'summary': 'min',\n",
       "  'PassengerId': '1',\n",
       "  'Survived': '0',\n",
       "  'Pclass': '1',\n",
       "  'Name': '\"Bradley, Mr. George (\"\"George Arthur Brayton\"\")\"',\n",
       "  'Sex': 'female',\n",
       "  'Age': '0.67',\n",
       "  'SibSp': '0',\n",
       "  'Parch': '0',\n",
       "  'Ticket': '110152',\n",
       "  'Fare': '0',\n",
       "  'Cabin': 'A14',\n",
       "  'Embarked': 'C'},\n",
       " {'summary': 'max',\n",
       "  'PassengerId': '99',\n",
       "  'Survived': '1',\n",
       "  'Pclass': '3',\n",
       "  'Name': 'van Billiard, Mr. Austin Blyler',\n",
       "  'Sex': 'male',\n",
       "  'Age': '9',\n",
       "  'SibSp': '8',\n",
       "  'Parch': '5',\n",
       "  'Ticket': 'WE/P 5735',\n",
       "  'Fare': '93.5',\n",
       "  'Cabin': 'T',\n",
       "  'Embarked': 'S'}]"
      ]
     },
     "execution_count": 15,
     "metadata": {},
     "output_type": "execute_result"
    }
   ],
   "source": [
    "data = submitter.get_statistics(job_id=job_id, from_sampling=True, file_type=FILE_TYPE_CSV,with_header=True)['data']\n",
    "data"
   ]
  },
  {
   "cell_type": "code",
   "execution_count": 16,
   "metadata": {},
   "outputs": [
    {
     "data": {
      "text/html": [
       "<div>\n",
       "<style scoped>\n",
       "    .dataframe tbody tr th:only-of-type {\n",
       "        vertical-align: middle;\n",
       "    }\n",
       "\n",
       "    .dataframe tbody tr th {\n",
       "        vertical-align: top;\n",
       "    }\n",
       "\n",
       "    .dataframe thead th {\n",
       "        text-align: right;\n",
       "    }\n",
       "</style>\n",
       "<table border=\"1\" class=\"dataframe\">\n",
       "  <thead>\n",
       "    <tr style=\"text-align: right;\">\n",
       "      <th></th>\n",
       "      <th>PassengerId</th>\n",
       "      <th>Survived</th>\n",
       "      <th>Pclass</th>\n",
       "      <th>Name</th>\n",
       "      <th>Sex</th>\n",
       "      <th>Age</th>\n",
       "      <th>SibSp</th>\n",
       "      <th>Parch</th>\n",
       "      <th>Ticket</th>\n",
       "      <th>Fare</th>\n",
       "      <th>Cabin</th>\n",
       "      <th>Embarked</th>\n",
       "    </tr>\n",
       "    <tr>\n",
       "      <th>summary</th>\n",
       "      <th></th>\n",
       "      <th></th>\n",
       "      <th></th>\n",
       "      <th></th>\n",
       "      <th></th>\n",
       "      <th></th>\n",
       "      <th></th>\n",
       "      <th></th>\n",
       "      <th></th>\n",
       "      <th></th>\n",
       "      <th></th>\n",
       "      <th></th>\n",
       "    </tr>\n",
       "  </thead>\n",
       "  <tbody>\n",
       "    <tr>\n",
       "      <th>count</th>\n",
       "      <td>478</td>\n",
       "      <td>478</td>\n",
       "      <td>478</td>\n",
       "      <td>478</td>\n",
       "      <td>478</td>\n",
       "      <td>391</td>\n",
       "      <td>478</td>\n",
       "      <td>478</td>\n",
       "      <td>478</td>\n",
       "      <td>478</td>\n",
       "      <td>110</td>\n",
       "      <td>478</td>\n",
       "    </tr>\n",
       "    <tr>\n",
       "      <th>mean</th>\n",
       "      <td>439.9979079497908</td>\n",
       "      <td>0.4100418410041841</td>\n",
       "      <td>2.288702928870293</td>\n",
       "      <td>None</td>\n",
       "      <td>None</td>\n",
       "      <td>30.155601023017905</td>\n",
       "      <td>0.5334728033472803</td>\n",
       "      <td>0.4246861924686193</td>\n",
       "      <td>301151.71142857143</td>\n",
       "      <td>34.130464644351434</td>\n",
       "      <td>None</td>\n",
       "      <td>None</td>\n",
       "    </tr>\n",
       "    <tr>\n",
       "      <th>stddev</th>\n",
       "      <td>260.25032699310214</td>\n",
       "      <td>0.49235624632787073</td>\n",
       "      <td>0.8444652654311523</td>\n",
       "      <td>None</td>\n",
       "      <td>None</td>\n",
       "      <td>14.128870337349701</td>\n",
       "      <td>1.1482960077789233</td>\n",
       "      <td>0.9189236969722622</td>\n",
       "      <td>547604.6362277074</td>\n",
       "      <td>56.180566079429475</td>\n",
       "      <td>None</td>\n",
       "      <td>None</td>\n",
       "    </tr>\n",
       "    <tr>\n",
       "      <th>min</th>\n",
       "      <td>1</td>\n",
       "      <td>0</td>\n",
       "      <td>1</td>\n",
       "      <td>\"Bradley, Mr. George (\"\"George Arthur Brayton\"\")\"</td>\n",
       "      <td>female</td>\n",
       "      <td>0.67</td>\n",
       "      <td>0</td>\n",
       "      <td>0</td>\n",
       "      <td>110152</td>\n",
       "      <td>0</td>\n",
       "      <td>A14</td>\n",
       "      <td>C</td>\n",
       "    </tr>\n",
       "    <tr>\n",
       "      <th>max</th>\n",
       "      <td>99</td>\n",
       "      <td>1</td>\n",
       "      <td>3</td>\n",
       "      <td>van Billiard, Mr. Austin Blyler</td>\n",
       "      <td>male</td>\n",
       "      <td>9</td>\n",
       "      <td>8</td>\n",
       "      <td>5</td>\n",
       "      <td>WE/P 5735</td>\n",
       "      <td>93.5</td>\n",
       "      <td>T</td>\n",
       "      <td>S</td>\n",
       "    </tr>\n",
       "  </tbody>\n",
       "</table>\n",
       "</div>"
      ],
      "text/plain": [
       "                PassengerId             Survived              Pclass  \\\n",
       "summary                                                                \n",
       "count                   478                  478                 478   \n",
       "mean      439.9979079497908   0.4100418410041841   2.288702928870293   \n",
       "stddev   260.25032699310214  0.49235624632787073  0.8444652654311523   \n",
       "min                       1                    0                   1   \n",
       "max                      99                    1                   3   \n",
       "\n",
       "                                                      Name     Sex  \\\n",
       "summary                                                              \n",
       "count                                                  478     478   \n",
       "mean                                                  None    None   \n",
       "stddev                                                None    None   \n",
       "min      \"Bradley, Mr. George (\"\"George Arthur Brayton\"\")\"  female   \n",
       "max                        van Billiard, Mr. Austin Blyler    male   \n",
       "\n",
       "                        Age               SibSp               Parch  \\\n",
       "summary                                                               \n",
       "count                   391                 478                 478   \n",
       "mean     30.155601023017905  0.5334728033472803  0.4246861924686193   \n",
       "stddev   14.128870337349701  1.1482960077789233  0.9189236969722622   \n",
       "min                    0.67                   0                   0   \n",
       "max                       9                   8                   5   \n",
       "\n",
       "                     Ticket                Fare Cabin Embarked  \n",
       "summary                                                         \n",
       "count                   478                 478   110      478  \n",
       "mean     301151.71142857143  34.130464644351434  None     None  \n",
       "stddev    547604.6362277074  56.180566079429475  None     None  \n",
       "min                  110152                   0   A14        C  \n",
       "max               WE/P 5735                93.5     T        S  "
      ]
     },
     "execution_count": 16,
     "metadata": {},
     "output_type": "execute_result"
    }
   ],
   "source": [
    "import pandas as pd\n",
    "pd.DataFrame.from_records(data, index='summary')"
   ]
  }
 ],
 "metadata": {
  "kernelspec": {
   "display_name": "Python 3",
   "language": "python",
   "name": "python3"
  },
  "language_info": {
   "codemirror_mode": {
    "name": "ipython",
    "version": 3
   },
   "file_extension": ".py",
   "mimetype": "text/x-python",
   "name": "python",
   "nbconvert_exporter": "python",
   "pygments_lexer": "ipython3",
   "version": "3.7.9"
  }
 },
 "nbformat": 4,
 "nbformat_minor": 2
}
